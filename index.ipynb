{
 "cells": [
  {
   "cell_type": "code",
   "execution_count": null,
   "metadata": {},
   "outputs": [],
   "source": [
    "#hide\n",
    "from sully.core import *"
   ]
  },
  {
   "cell_type": "markdown",
   "metadata": {},
   "source": [
    "# Sully\n",
    "\n",
    "> Exploratory Data Analysis (EDA) on bird strikes in aviation."
   ]
  },
  {
   "cell_type": "markdown",
   "metadata": {},
   "source": [
    "## Install\n",
    "1. Make a conda env [with nbdev installed](https://nbdev.fast.ai/) in it.\n",
    "2. Activate that env and run `nbdev_new <project_name>`. This will create a git-initialized repo with `$PWD/<project_name>`.\n",
    "3. Run `nbdev_install_git_hooks`.\n",
    "4. Run `nbdev_build_lib`. This will create a Makefile on its first run.\n",
    "5. Modify `settings.ini` to reflect your github setup. You also specify your project's dependencies here for the github CI pipeline. \n",
    "6. `make docs_serve` – This will most likely fail on your first run, as it tries to use Jekyll locally similarily on how it will later look using github pages.\n",
    "  1. Goto docs directory inside `<project_name>`.\n",
    "  2. `bundle install --path ~/.local/<project_name>-docs` – This is only needed to serve the documentation locally! It pulls in a lot of ruby stuff.\n",
    "7. Save your notebooks and **run `make all` before each `git {add, commit}`** – this might feel strange but the artifacts created by `make` are part of your project's git repository. This is intentional!\n",
    "8. Push to github to check that CI runs successfully! Fix any build failures in this early stage before adding new stuff. Simulating github CI locally is possible but requires docker and an ungodly amount of npm stuff (read: security nightmare).\n",
    "9. After your first push to github configure the github settings for your repository to enable github pages; point them to `branch: master, directory: docs/`. It can take up to 15min to build your github pages initially.\n",
    "10. Goto `https://<github_username>.github.io/<project_name>/`. If you installed/configured everything correctly this should show your project's `index.ipynb` as landing page."
   ]
  },
  {
   "cell_type": "markdown",
   "metadata": {},
   "source": [
    "## How to use\n",
    "\n",
    "Each notebook is transpiled to one web page. Code cells that are marked with `#export` become part of your project's library (or module). This enables you to A) reuse code in other notebooks, B) run your analysis from CLI, without Jupyter.\n",
    "\n",
    "The first markdown cell of each notebook is treated special by nbdev; it contains the (only) first level headline followed by a brief section describing the notebooks contents like so:\n",
    "\n",
    "~~~\n",
    "# Awesome Notebook Does Amazing Things Only Ever Done A Million Times Before\n",
    "\n",
    "> This is an exec summary of your notebook. Keep it brief and to the point.\n",
    "~~~\n",
    "\n",
    "If you care about a proper project website, you'll need to do this for each of your project's notebooks! The first level headline of each notebook is used to create the sidebar menu. Proper headline structuring and nesting is recommended once the headlines pile up, as the `make docs` functionality will automagically create a TOC for your notebook. "
   ]
  },
  {
   "cell_type": "code",
   "execution_count": null,
   "metadata": {},
   "outputs": [],
   "source": []
  }
 ],
 "metadata": {
  "kernelspec": {
   "display_name": "Python 3",
   "language": "python",
   "name": "python3"
  }
 },
 "nbformat": 4,
 "nbformat_minor": 4
}
