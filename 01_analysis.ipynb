{
 "cells": [
  {
   "cell_type": "code",
   "execution_count": null,
   "metadata": {},
   "outputs": [],
   "source": [
    "# default_exp analysis"
   ]
  },
  {
   "cell_type": "markdown",
   "metadata": {},
   "source": [
    "# Analysis & Visualization\n",
    "\n",
    "> Correlation analysis and visualization."
   ]
  },
  {
   "cell_type": "code",
   "execution_count": null,
   "metadata": {},
   "outputs": [],
   "source": [
    "#hide\n",
    "from nbdev.showdoc import *"
   ]
  },
  {
   "cell_type": "code",
   "execution_count": null,
   "metadata": {},
   "outputs": [],
   "source": [
    "#export\n",
    "import pandas as pd\n",
    "import numpy as np\n",
    "import seaborn as sns\n",
    "import matplotlib.pyplot as plt\n",
    "from sully import eda"
   ]
  },
  {
   "cell_type": "code",
   "execution_count": null,
   "metadata": {},
   "outputs": [],
   "source": [
    "data = eda.load('bird-strikes')"
   ]
  },
  {
   "cell_type": "markdown",
   "metadata": {},
   "source": [
    "## Correlations, take 2"
   ]
  },
  {
   "cell_type": "markdown",
   "metadata": {},
   "source": [
    "Earlier we tried to look into correlations, but failed because too many columns were categorial. We can cast those categories into `pd.Categorical` types and then access their automagically created numeric codes so that a numerical analysis, such as `pd.DataFrame.corr()`, will produce proper results."
   ]
  },
  {
   "cell_type": "code",
   "execution_count": null,
   "metadata": {},
   "outputs": [],
   "source": [
    "#export\n",
    "def makeCatCodes(data:pd.DataFrame, columns:list)->pd.DataFrame:\n",
    "    for col in columns:\n",
    "        data[col] = pd.Categorical(data[col])\n",
    "\n",
    "    codes = {}\n",
    "    for col in columns:\n",
    "        codes[col] = data[col].cat.codes\n",
    "        \n",
    "    return pd.DataFrame(codes)"
   ]
  },
  {
   "cell_type": "code",
   "execution_count": null,
   "metadata": {},
   "outputs": [],
   "source": [
    "data_cc = makeCatCodes(data.copy(), eda.findCategoricalCandidates(data)['name'])\n",
    "fig, ax = plt.subplots(figsize=(14,14))\n",
    "sns.heatmap(data_cc.corr(), vmin=-1, vmax=1, cmap='coolwarm', annot=True, ax=ax);"
   ]
  },
  {
   "cell_type": "markdown",
   "metadata": {},
   "source": [
    "Several clusters can be identified directly:\n",
    "* `{'Effect: Indicated Damage', 'Altitude bin', 'Wildlife: Size', 'When: Time of day'}²`\n",
    "* `{'Aircraft: Airline/Operator', 'Aircraft: Make/Model', 'Wildlife: Species'} x {'Effect: Indicated Damage', 'Altitude bin', 'Wildlife: Size'}`\n",
    "* `{'When: Time of day', 'Effect: Impact to flight', 'Aircraft: Number of engines?'}²`\n",
    "* `{'When: Time of day', 'Effect: Impact to flight', 'Aircraft: Number of engines?'} x {'Speed (IAS) in knots', 'Aircraft: Make/Model', 'Wildlife: Species}`"
   ]
  },
  {
   "cell_type": "markdown",
   "metadata": {},
   "source": [
    "`Effect: {Impact to flight, Indicated Damage}` are both related, yet one is missing data for nearly half the records, whereas the other is mostly complete. Instead of attempting to fix `Effect: Impact to flight` we will stick to `Effect: Indicated Damage`."
   ]
  },
  {
   "cell_type": "code",
   "execution_count": null,
   "metadata": {},
   "outputs": [],
   "source": [
    "data['Effect: Impact to flight'].isna().sum() / len(data), data['Effect: Indicated Damage'].isna().sum() / len(data)"
   ]
  },
  {
   "cell_type": "markdown",
   "metadata": {},
   "source": [
    "## Airport: Name &rarr; Effect: Indicated Damage"
   ]
  },
  {
   "cell_type": "markdown",
   "metadata": {},
   "source": [
    "Notice that we use crosstables to get margins on each aggregated sub table. Margins show up as an additional `All` column. This simplifies sorting and makes for easier \"top x\"-style queries."
   ]
  },
  {
   "cell_type": "code",
   "execution_count": null,
   "metadata": {},
   "outputs": [],
   "source": [
    "data_ct = pd.crosstab([data['Airport: Name']], data['Effect: Indicated Damage'], margins=True)\n",
    "data_ct.sort_values(by='All', ascending=False)[1:].head(5)"
   ]
  },
  {
   "cell_type": "markdown",
   "metadata": {},
   "source": [
    "We limit our result to the first 20 records via dataframe slicing like so: `some_df[-21:-1]`. We skip the first record because in our reversely sorted dataframe, this would show the totals (margins) for each column"
   ]
  },
  {
   "cell_type": "code",
   "execution_count": null,
   "metadata": {},
   "outputs": [],
   "source": [
    "data_ct.sort_values(by='All', ascending=True)[-21:-1].plot.barh(figsize=(10,10));"
   ]
  },
  {
   "cell_type": "markdown",
   "metadata": {},
   "source": [
    "We can see that certain airports among the top 20, such as Denver INTL Airport or Dallas/Fort Worth INTL ARPT, report bird strikes at a much higher rate. A quick check reveals those airports to be near military (air) bases.\n",
    "\n",
    "The majority of reported bird strikes cause no damage to the aircraft."
   ]
  },
  {
   "cell_type": "markdown",
   "metadata": {},
   "source": [
    "## Aircraft: Airline/Operator, Airport: Name &rarr; Effect: Indicated Damage"
   ]
  },
  {
   "cell_type": "code",
   "execution_count": null,
   "metadata": {},
   "outputs": [],
   "source": [
    "data_op_ct = pd.crosstab([data['Aircraft: Airline/Operator'], data['Airport: Name']], data['Effect: Indicated Damage'], margins=True)\n",
    "data_op_ct.sort_values(by='All', ascending=True)[-21:-1].plot.barh(figsize=(8,10));"
   ]
  },
  {
   "cell_type": "markdown",
   "metadata": {},
   "source": [
    "Southwest Airlines shows up often, with Fedex Express at Memphis International taking the 2nd spot and UPS Airlines at Louisville INTL ARPT taking the 4th spot. Dallas/Fort Worth INTL ARPT and Denver INTL Airport are dominated by 'unknown'. The latter two are airfreight carriers, with Southwest Airlines running a [domestic airfreight branch](https://www.swacargo.com/). One can see that Fedex Express also claims the majority of bird strike reports at Memphis International (86.7%):"
   ]
  },
  {
   "cell_type": "code",
   "execution_count": null,
   "metadata": {},
   "outputs": [],
   "source": [
    "data_op_ct.loc['FEDEX EXPRESS', 'MEMPHIS INTL']['All'] / data_ct.loc['MEMPHIS INTL']['All']"
   ]
  },
  {
   "cell_type": "markdown",
   "metadata": {},
   "source": [
    "UPS Airlines dominates bird strike reports at Louisville International Airport (76.4%):"
   ]
  },
  {
   "cell_type": "code",
   "execution_count": null,
   "metadata": {},
   "outputs": [],
   "source": [
    "data_op_ct.loc['UPS AIRLINES', 'LOUISVILLE INTL ARPT']['All'] / data_ct.loc['LOUISVILLE INTL ARPT']['All']"
   ]
  },
  {
   "cell_type": "markdown",
   "metadata": {},
   "source": [
    "Let's check if we find other airports where bird strike reports are dominated by a single airline operator."
   ]
  },
  {
   "cell_type": "code",
   "execution_count": null,
   "metadata": {},
   "outputs": [],
   "source": [
    "operators = []\n",
    "airports = []\n",
    "ratios = []\n",
    "totals = []\n",
    "bounds = (.1, 1)\n",
    "min_reports = 100\n",
    "\n",
    "for idx in data_op_ct.index[:-1]:\n",
    "    op = idx[0]\n",
    "    ap = idx[1]\n",
    "    \n",
    "    t = data_ct.loc[ap]['All']\n",
    "    r = data_op_ct.loc[idx]['All'] / max(1, t)\n",
    "\n",
    "    if r >= bounds[0] and r < bounds[1] and t >= min_reports:\n",
    "        operators.append(op)\n",
    "        airports.append(ap)\n",
    "        ratios.append(r)\n",
    "        totals.append(t)\n",
    "\n",
    "op_ap_r = pd.DataFrame({'operator': operators,\n",
    "                        'airports': airports,\n",
    "                        'ratio': ratios,\n",
    "                        'totals': totals})"
   ]
  },
  {
   "cell_type": "code",
   "execution_count": null,
   "metadata": {},
   "outputs": [],
   "source": [
    "op_ap_r.sort_values(by='ratio', ascending=False).head(10)"
   ]
  },
  {
   "cell_type": "markdown",
   "metadata": {},
   "source": [
    "Military bases obviously dominate bird strike reports at their respective airport, so let's filter them out."
   ]
  },
  {
   "cell_type": "code",
   "execution_count": null,
   "metadata": {},
   "outputs": [],
   "source": [
    "op_ap_r[op_ap_r['operator'] != 'MILITARY'].sort_values(by='ratio', ascending=False).head(10)"
   ]
  },
  {
   "cell_type": "markdown",
   "metadata": {},
   "source": [
    "Memphis INTL and Louisville INTL ARPT look like air freight hubs (see operators). If air freight operations take mostly place at night, then their abnormal flight schedule could impose a higher risk of bird strikes, too."
   ]
  },
  {
   "cell_type": "markdown",
   "metadata": {},
   "source": [
    "## Air freight vs. other Aircraft: Airline/Operators"
   ]
  },
  {
   "cell_type": "code",
   "execution_count": null,
   "metadata": {},
   "outputs": [],
   "source": [
    "airfreight_pred = data['Aircraft: Airline/Operator'].isin(['FEDEX EXPRESS', 'UPS AIRLINES'])\n",
    "data.groupby('When: cat').count()['When: Time (HHMM)'].plot.barh(figsize=(12,12))\n",
    "data[airfreight_pred].groupby('When: cat').count()['When: Time (HHMM)'].plot.barh(color='orange');"
   ]
  },
  {
   "cell_type": "markdown",
   "metadata": {},
   "source": [
    "The time of day categories generated by `pd.qcut` are often close to one hour in range, apart from the late night/early hours categories. This indicates that flight schedules are mostly stable from noon to midnight (in terms of frequency).\n",
    "\n",
    "We can assume that airfreight carriers mostly operate during night time, which is why for them the risk of bird strikes is naturally higher in those hours."
   ]
  },
  {
   "cell_type": "markdown",
   "metadata": {},
   "source": [
    "## Wildlife: Size, Altitude bin &rarr; Effect: Indicated Damage"
   ]
  },
  {
   "cell_type": "code",
   "execution_count": null,
   "metadata": {},
   "outputs": [],
   "source": [
    "pd.crosstab([data['Wildlife: Size'],\n",
    "             data['Altitude bin']],\n",
    "             data['Effect: Indicated Damage'],\n",
    "            margins=True).sort_values(by='All', ascending=True)[:-1].plot.barh(figsize=(10, 4));"
   ]
  },
  {
   "cell_type": "markdown",
   "metadata": {},
   "source": [
    "Bird strikes seem to happen with much higher frequency at lower altitudes. Smaller birds cause more reports! Large birds might be rarer, or perhaps it's the nature of smaller birds flying in large swarms."
   ]
  },
  {
   "cell_type": "markdown",
   "metadata": {},
   "source": [
    "## When: Time (HHMM) &rarr; Effect: Indicated Damage"
   ]
  },
  {
   "cell_type": "markdown",
   "metadata": {},
   "source": [
    "Notice that we fold `When: Time (HHMM)` into hours for improved clarity. The column uses military time."
   ]
  },
  {
   "cell_type": "code",
   "execution_count": null,
   "metadata": {},
   "outputs": [],
   "source": [
    "pd.crosstab(data['When: Time (HHMM)'] // 100 * 100,\n",
    "            data['Effect: Indicated Damage'],\n",
    "            margins=True)[:-1].plot.bar(figsize=(12, 8));"
   ]
  },
  {
   "cell_type": "markdown",
   "metadata": {},
   "source": [
    "We see a strong daily increase in bird strike reports beginning at 0600 til 1100, then a decline during noon/early afternoon (1200-1600) and again a rise in the evening/late night (1700-2300), followed by a sharp drop during night hours (0000-0500)."
   ]
  },
  {
   "cell_type": "markdown",
   "metadata": {},
   "source": [
    "## When: Time of day, Aircraft: Number of engines? &rarr; Effect: Indicated Damage"
   ]
  },
  {
   "cell_type": "code",
   "execution_count": null,
   "metadata": {},
   "outputs": [],
   "source": [
    "pd.crosstab([data['When: Time of day'],\n",
    "             data['Aircraft: Number of engines?']],\n",
    "             data['Effect: Indicated Damage'],\n",
    "            margins=True).sort_values(by='All', ascending=True)[:-1].plot.barh(figsize=(12, 8));"
   ]
  },
  {
   "cell_type": "markdown",
   "metadata": {},
   "source": [
    "What shows up as strong correlation might just be a result of frequency wrt. twin-engine aircrafts flying during the day (read: almost all commercial airlines or modern military jets)."
   ]
  },
  {
   "cell_type": "markdown",
   "metadata": {},
   "source": [
    "## Aircraft: Make/Model &rarr; Effect: Indicated Damage"
   ]
  },
  {
   "cell_type": "code",
   "execution_count": null,
   "metadata": {},
   "outputs": [],
   "source": [
    "pd.crosstab(data['Aircraft: Make/Model'],\n",
    "            data['Effect: Indicated Damage'],\n",
    "            margins=True).sort_values(by='All', ascending=True)[-21:-1].plot.barh(figsize=(12, 8));"
   ]
  },
  {
   "cell_type": "markdown",
   "metadata": {},
   "source": [
    "Aircraft models favored by (commercial) operators fly more often and therefore report more bird strikes, naturally. Military aircrafts report the majority of bird strikes.\n",
    "\n",
    "It's difficult to see whether the size of an aircraft, such as the massive Boeing 737 variants as compared to a much smaller model such as the DHC8 DASH 8, has an effect. Type of engine, such as turboprop vs jet engines, which is a distinctive feature among aircraft models, could also influence this figure."
   ]
  },
  {
   "cell_type": "markdown",
   "metadata": {},
   "source": [
    "## Speed (IAS) in knots, When: Phase of flight &rarr; Effect: Indicated Damage"
   ]
  },
  {
   "cell_type": "code",
   "execution_count": null,
   "metadata": {},
   "outputs": [],
   "source": [
    "pd.crosstab(data['Speed (IAS) in knots'],\n",
    "            data['Effect: Indicated Damage'],\n",
    "            margins=True).sort_values(by='All', ascending=True)[-21:-1].plot.bar(figsize=(12, 8));"
   ]
  },
  {
   "cell_type": "markdown",
   "metadata": {},
   "source": [
    "There is a speed interval around 100-180 knots that reports the majority of bird strike reports."
   ]
  },
  {
   "cell_type": "code",
   "execution_count": null,
   "metadata": {},
   "outputs": [],
   "source": [
    "pd.crosstab(data['Speed (IAS) in knots'],\n",
    "            data['When: Phase of flight'],\n",
    "            margins=True).sort_values(by='All', ascending=True)[-11:-1].plot.bar(figsize=(12, 8));"
   ]
  },
  {
   "cell_type": "markdown",
   "metadata": {},
   "source": [
    "Most bird strike seemingly happen during approach, with a speed (IAS) between 120 and 140 knots.\n",
    "Climb phase (at slightly higher speeds) and descent (at approx. twice the speed) also show an increase in bird strike reports."
   ]
  },
  {
   "cell_type": "markdown",
   "metadata": {},
   "source": [
    "## Seasonal effects"
   ]
  },
  {
   "cell_type": "code",
   "execution_count": null,
   "metadata": {},
   "outputs": [],
   "source": [
    "data.groupby(['FlightDate']).count()['When: Time of day'].plot(figsize=(12,8));"
   ]
  },
  {
   "cell_type": "code",
   "execution_count": null,
   "metadata": {},
   "outputs": [],
   "source": [
    "data['FlightDate: Month'] = data['FlightDate'].dt.strftime('%B') # dependent on locale, use .dt.month elsewhere!\n",
    "data.groupby(['FlightDate: Month']).count()['FlightDate'].sort_values().plot.bar(figsize=(12,8));"
   ]
  },
  {
   "cell_type": "markdown",
   "metadata": {},
   "source": [
    "We see a seasonal increase in bird strikes during summer and autumn, from July to October. Most birds probably migrate to the south during the colder seasons (given that the data is from the US, which is in the northern hemisphere), so this is entirely expected."
   ]
  },
  {
   "cell_type": "markdown",
   "metadata": {},
   "source": [
    "## When: Time (HHMM) &rarr; Effect: Indicated Damage over Bird Season vs. ~Bird Season"
   ]
  },
  {
   "cell_type": "code",
   "execution_count": null,
   "metadata": {},
   "outputs": [],
   "source": [
    "bird_season = [7, 8, 9, 10]\n",
    "\n",
    "data_bs = data[data['FlightDate'].dt.month.isin(bird_season)]\n",
    "data_not_bs = data[~data['FlightDate'].dt.month.isin(bird_season)]\n",
    "\n",
    "(pd.crosstab(data_bs['When: Time (HHMM)'] // 100 * 100,\n",
    "             data_bs['Effect: Indicated Damage'],\n",
    "             margins=True) - pd.crosstab(data_not_bs['When: Time (HHMM)'] // 100 * 100,\n",
    "                                         data_not_bs['Effect: Indicated Damage'],\n",
    "                                         margins=True))[:-1].plot.bar(figsize=(12, 8));"
   ]
  },
  {
   "cell_type": "markdown",
   "metadata": {},
   "source": [
    "Earlier we've shown a figure of bird strikes likelihood distributed over the whole day. Knowing that there is a bird season we can now get a clearer picture of the same correlation. We see a much stronger likelihood of bird strike reports during morning/early morning and during the evening. Surprisingly, perhaps, the risk of bird strikes causing damage to the aircraft is *higher* during the off-season."
   ]
  },
  {
   "cell_type": "markdown",
   "metadata": {},
   "source": [
    "## Summary"
   ]
  },
  {
   "cell_type": "markdown",
   "metadata": {},
   "source": [
    "Once the data had been cleaned up, with feature engineering around time of day and (military) aircrafts, the analysis proved to be much easier. Making proper use of categorical data was essential. Seemingly a roadblock at first, [pd.DataFrame.corr()](https://pandas.pydata.org/pandas-docs/stable/reference/api/pandas.DataFrame.corr.html) could be made to operate well on categorical data, via [pd.Categorical()](https://pandas.pydata.org/pandas-docs/stable/reference/api/pandas.Categorical.html) and the [codes Pandas generates automatically](https://pandas.pydata.org/pandas-docs/stable/reference/api/pandas.Series.cat.codes.html) for each categorical dtype. The resulting heatmap could then be used to guide us towards visualization of strong correlations.\n",
    "\n",
    "### Features that correlate with increased bird strike reports\n",
    "\n",
    "* Airport: Name,\n",
    "* Aircraft: Airline/Operator in combination with Airport: Name,\n",
    "* Whether Airline/Operator is an air freight carrier or operates air freight hubs,\n",
    "* Altitude in combination with Wildlife: Size,\n",
    "* When: Time (HHMM),\n",
    "* When: Time of day in combination with Aircraft: Number of engines,\n",
    "* Aircraft: Make/Model,\n",
    "* Speed (IAS) in knots in combination with When: Phase of flights\n",
    "* Seasonal effects wrt. bird season"
   ]
  }
 ],
 "metadata": {
  "kernelspec": {
   "display_name": "Python 3",
   "language": "python",
   "name": "python3"
  }
 },
 "nbformat": 4,
 "nbformat_minor": 4
}
